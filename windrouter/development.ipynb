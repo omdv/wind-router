{
 "cells": [
  {
   "cell_type": "code",
   "execution_count": 1,
   "metadata": {},
   "outputs": [],
   "source": [
    "import numpy as np\n",
    "from geovectorslib import geod\n",
    "from boat import get_boat_speed, get_boat_profile\n",
    "from grib import grib_to_wind_function\n",
    "from router import move_boat_direct"
   ]
  },
  {
   "cell_type": "code",
   "execution_count": 2,
   "metadata": {},
   "outputs": [],
   "source": [
    "f_twa, f_tws = grib_to_wind_function('../data/2019122212/2019122212f000')\n",
    "boat = get_boat_profile('../data/polar-VO70.csv')\n",
    "f_boat_speed = get_boat_speed"
   ]
  },
  {
   "cell_type": "code",
   "execution_count": 3,
   "metadata": {},
   "outputs": [],
   "source": [
    "        lats = [10, 20, 30]\n",
    "        lons = [10, 20, 30]\n",
    "        hdgs = [11, 12, 13]\n",
    "        p2 = (lats, lons)"
   ]
  },
  {
   "cell_type": "code",
   "execution_count": 4,
   "metadata": {},
   "outputs": [
    {
     "name": "stdout",
     "output_type": "stream",
     "text": [
      "[10, 20, 30] [10, 20, 30] [11, 12, 13]\n",
      "[-6.38356686 -7.3801713  -9.91421866] [34.69935608 44.84736633 25.49043274] [0. 0. 0.]\n"
     ]
    },
    {
     "data": {
      "text/plain": [
       "{'azi1': [11, 12, 13],\n",
       " 's12': array([0., 0., 0.]),\n",
       " 'p2': (array([10., 20., 30.]), array([10., 20., 30.])),\n",
       " 't12': 10}"
      ]
     },
     "execution_count": 4,
     "metadata": {},
     "output_type": "execute_result"
    }
   ],
   "source": [
    "move_boat_direct(lats, lons, hdgs,\n",
    "    boat, f_boat_speed,\n",
    "    f_twa, f_tws,\n",
    "    10, 1\n",
    ")"
   ]
  },
  {
   "cell_type": "code",
   "execution_count": 5,
   "metadata": {},
   "outputs": [],
   "source": [
    "boat = get_boat_profile('../data/polar-ITA70.csv')"
   ]
  },
  {
   "cell_type": "code",
   "execution_count": 6,
   "metadata": {},
   "outputs": [
    {
     "data": {
      "text/plain": [
       "{'func': <scipy.interpolate.interpolate.interp2d at 0x106d67590>,\n",
       " 'polars': array([[  0.  ,   6.  ,   8.  ,  10.  ,  12.  ,  14.  ,  16.  ,  20.  ],\n",
       "        [  0.  ,   0.  ,   0.  ,   0.  ,   0.  ,   0.  ,   0.  ,   0.  ],\n",
       "        [ 52.  ,   8.65,  10.53,  11.8 ,  12.57,  13.13,  13.57,  14.88],\n",
       "        [ 60.  ,   9.37,  11.  ,  12.51,  13.38,  14.04,  14.57,  16.17],\n",
       "        [ 75.  ,  10.02,  11.74,  13.6 ,  14.98,  15.96,  16.75,  18.41],\n",
       "        [ 90.  ,  10.5 ,  12.47,  13.91,  15.86,  17.22,  18.21,  19.57],\n",
       "        [110.  ,  10.34,  12.31,  14.59,  16.17,  17.65,  18.89,  21.74],\n",
       "        [120.  ,   9.85,  11.62,  13.72,  16.32,  17.89,  19.25,  22.14],\n",
       "        [135.  ,   8.09,  10.08,  11.36,  13.06,  15.18,  17.34,  22.21],\n",
       "        [150.  ,   6.61,   8.23,   9.75,  10.92,  12.39,  14.3 ,  18.26]])}"
      ]
     },
     "execution_count": 6,
     "metadata": {},
     "output_type": "execute_result"
    }
   ],
   "source": [
    "boat"
   ]
  }
 ],
 "metadata": {
  "kernelspec": {
   "display_name": "Python 3",
   "language": "python",
   "name": "python3"
  },
  "language_info": {
   "codemirror_mode": {
    "name": "ipython",
    "version": 3
   },
   "file_extension": ".py",
   "mimetype": "text/x-python",
   "name": "python",
   "nbconvert_exporter": "python",
   "pygments_lexer": "ipython3",
   "version": "3.7.7"
  }
 },
 "nbformat": 4,
 "nbformat_minor": 4
}
